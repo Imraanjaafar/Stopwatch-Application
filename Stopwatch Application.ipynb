{
 "cells": [
  {
   "cell_type": "markdown",
   "id": "cosmetic-earthquake",
   "metadata": {},
   "source": [
    "# Mini Project 2 - Stopwatch Application"
   ]
  },
  {
   "cell_type": "markdown",
   "id": "alpha-cheat",
   "metadata": {},
   "source": [
    "* Create a stopwatch application that has functions start(), stop() and reset().\n",
    "* The count should start when you call the start() function.\n",
    "* When stop() function is called stop the count and return the duration.\n",
    "* Calling reset() function will reset the duration to 0\n",
    "* Extra: Log the events as a new line every time the stop() function is called into a CSV file"
   ]
  },
  {
   "cell_type": "code",
   "execution_count": 9,
   "id": "lyric-romania",
   "metadata": {},
   "outputs": [],
   "source": [
    "# import the necessary modules\n",
    "import time\n",
    "import csv"
   ]
  },
  {
   "cell_type": "code",
   "execution_count": 10,
   "id": "e844d7a2",
   "metadata": {},
   "outputs": [],
   "source": [
    "class Stopwatch:\n",
    "    def __init__(self):\n",
    "        self.start_time = None\n",
    "        self.duration = 0\n",
    "        self.log_file = 'stopwatch_log.csv'\n",
    "    \n",
    "    def start(self):\n",
    "        if self.start_time is None:\n",
    "            self.start_time = time.time()\n",
    "    \n",
    "    def stop(self):\n",
    "        if self.start_time is not None:\n",
    "            end_time = time.time()\n",
    "            self.duration += end_time - self.start_time\n",
    "            self.start_time = None\n",
    "            self.log_event()\n",
    "            return self.duration\n",
    "\n",
    "    def reset(self):\n",
    "        self.start_time = None\n",
    "        self.duration = 0\n",
    "\n",
    "    def log_event(self):\n",
    "        with open(self.log_file, mode='a', newline='') as file:\n",
    "            writer = csv.writer(file)\n",
    "            writer.writerow([time.strftime('%Y-%m-%d %H:%M:%S'), self.duration])"
   ]
  },
  {
   "cell_type": "code",
   "execution_count": 11,
   "id": "f0809db1",
   "metadata": {},
   "outputs": [
    {
     "name": "stdout",
     "output_type": "stream",
     "text": [
      "Stopwatch Application\n",
      "1. Start\n",
      "2. Stop\n",
      "3. Reset\n",
      "4. Quit\n",
      "Stopwatch Application\n",
      "1. Start\n",
      "2. Stop\n",
      "3. Reset\n",
      "4. Quit\n",
      "Duration: 1.2634086608886719 seconds\n",
      "Stopwatch Application\n",
      "1. Start\n",
      "2. Stop\n",
      "3. Reset\n",
      "4. Quit\n",
      "Stopwatch reset.\n",
      "Stopwatch Application\n",
      "1. Start\n",
      "2. Stop\n",
      "3. Reset\n",
      "4. Quit\n",
      "Exiting the stopwatch.\n"
     ]
    }
   ],
   "source": [
    "if __name__ == \"__main__\":\n",
    "    stopwatch = Stopwatch()\n",
    "\n",
    "    while True:\n",
    "        print(\"Stopwatch Application\")\n",
    "        print(\"1. Start\")\n",
    "        print(\"2. Stop\")\n",
    "        print(\"3. Reset\")\n",
    "        print(\"4. Quit\")\n",
    "        choice = input(\"Enter your choice: \")\n",
    "\n",
    "        if choice == '1':\n",
    "            stopwatch.start()\n",
    "        elif choice == '2':\n",
    "            duration = stopwatch.stop()\n",
    "            if duration is not None:\n",
    "                print(f\"Duration: {duration} seconds\")\n",
    "            else:\n",
    "                print(\"Stopwatch is not running.\")\n",
    "        elif choice == '3':\n",
    "            stopwatch.reset()\n",
    "            print(\"Stopwatch reset.\")\n",
    "        elif choice == '4':\n",
    "            print(\"Exiting the stopwatch.\")\n",
    "            break\n",
    "        else:\n",
    "            print(\"Invalid choice. Please select a valid option.\")"
   ]
  }
 ],
 "metadata": {
  "kernelspec": {
   "display_name": "Python 3",
   "language": "python",
   "name": "python3"
  },
  "language_info": {
   "codemirror_mode": {
    "name": "ipython",
    "version": 3
   },
   "file_extension": ".py",
   "mimetype": "text/x-python",
   "name": "python",
   "nbconvert_exporter": "python",
   "pygments_lexer": "ipython3",
   "version": "3.11.5"
  }
 },
 "nbformat": 4,
 "nbformat_minor": 5
}
